{
  "nbformat": 4,
  "nbformat_minor": 0,
  "metadata": {
    "colab": {
      "provenance": [],
      "authorship_tag": "ABX9TyMI1xsZCy/qVPJt6dab8o5z",
      "include_colab_link": true
    },
    "kernelspec": {
      "name": "python3",
      "display_name": "Python 3"
    },
    "language_info": {
      "name": "python"
    }
  },
  "cells": [
    {
      "cell_type": "markdown",
      "metadata": {
        "id": "view-in-github",
        "colab_type": "text"
      },
      "source": [
        "<a href=\"https://colab.research.google.com/github/CodewSanthosh/sdc-Gen-AI/blob/main/YoutubeSummmarizer.ipynb\" target=\"_parent\"><img src=\"https://colab.research.google.com/assets/colab-badge.svg\" alt=\"Open In Colab\"/></a>"
      ]
    },
    {
      "cell_type": "code",
      "execution_count": null,
      "metadata": {
        "colab": {
          "base_uri": "https://localhost:8080/"
        },
        "id": "NIwV1xTe4Ta6",
        "outputId": "b5b33bc4-f98a-48e2-b8e8-cbca7f4cefcd"
      },
      "outputs": [
        {
          "output_type": "stream",
          "name": "stdout",
          "text": [
            "Fetching transcript...\n",
            "Summarizing...\n"
          ]
        },
        {
          "output_type": "stream",
          "name": "stderr",
          "text": [
            "Device set to use cpu\n"
          ]
        }
      ],
      "source": [
        "# Install dependencies\n",
        "!pip install youtube-transcript-api transformers sentencepiece --quiet\n",
        "\n",
        "# Import libraries\n",
        "from youtube_transcript_api import YouTubeTranscriptApi\n",
        "from transformers import pipeline\n",
        "import re\n",
        "\n",
        "# Extract Video ID from URL\n",
        "def get_video_id(url):\n",
        "    match = re.search(r'(?:v=|\\/)([0-9A-Za-z_-]{11}).*', url)\n",
        "    return match.group(1) if match else None\n",
        "\n",
        "# Fetch YouTube Transcript\n",
        "def fetch_transcript(video_url):\n",
        "    video_id = get_video_id(video_url)\n",
        "    if not video_id:\n",
        "        raise ValueError(\"Invalid YouTube URL.\")\n",
        "    transcript_data = YouTubeTranscriptApi.get_transcript(video_id)\n",
        "    transcript = \" \".join([entry['text'] for entry in transcript_data])\n",
        "    return transcript\n",
        "\n",
        "# Summarize Text using Hugging Face Model\n",
        "def summarize_text(text, max_chunk=1000):\n",
        "    summarizer = pipeline(\"summarization\", model=\"facebook/bart-large-cnn\")\n",
        "\n",
        "    # Split text into manageable chunks\n",
        "    chunks = [text[i:i + max_chunk] for i in range(0, len(text), max_chunk)]\n",
        "    summaries = []\n",
        "\n",
        "    for chunk in chunks:\n",
        "        summary = summarizer(chunk, max_length=150, min_length=40, do_sample=False)[0]['summary_text']\n",
        "        summaries.append(summary)\n",
        "\n",
        "    return \" \".join(summaries)\n",
        "\n",
        "# Main Flow\n",
        "video_url = \"https://youtu.be/gFmD43W0Hi0?si=xHxDhGUbRuWGC8UF\"  # Replace with your video URL\n",
        "\n",
        "try:\n",
        "    print(\"Fetching transcript...\")\n",
        "    transcript = fetch_transcript(video_url)\n",
        "\n",
        "    print(\"Summarizing...\")\n",
        "    final_summary = summarize_text(transcript)\n",
        "\n",
        "    print(\"\\n=== YouTube Video Summary ===\\n\")\n",
        "    print(final_summary)\n",
        "\n",
        "except Exception as e:\n",
        "    print(\"Error:\", str(e))\n"
      ]
    }
  ]
}